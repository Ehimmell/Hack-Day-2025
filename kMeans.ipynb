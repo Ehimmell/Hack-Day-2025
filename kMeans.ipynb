{
 "cells": [
  {
   "cell_type": "code",
   "id": "initial_id",
   "metadata": {
    "collapsed": true,
    "ExecuteTime": {
     "end_time": "2025-06-18T23:13:14.605595Z",
     "start_time": "2025-06-18T23:13:14.600538Z"
    }
   },
   "source": [
    "import numpy as np\n",
    "import logging\n",
    "\n",
    "logging.basicConfig(\n",
    "    level=logging.INFO,\n",
    "    format=\"%(asctime)s %(levelname)-8s %(message)s\",\n",
    "    datefmt=\"%H:%M:%S\",\n",
    ")\n",
    "logger = logging.getLogger(__name__)\n",
    "\n",
    "\n",
    "def dist(a, b):\n",
    "    d = np.sqrt(((a - b) ** 2).sum())\n",
    "    # logger.debug(f\"dist: between {a} and {b} = {d:.4f}\")\n",
    "    return d\n",
    "\n",
    "\n",
    "def find_best_centroid(centroids, point):\n",
    "    # logger.debug(f\"find_best_centroid: point={point}\")\n",
    "    distances = np.array([dist(c, point) for c in centroids])\n",
    "    idx = np.argmin(distances)\n",
    "    # logger.debug(f\"  → best centroid index = {idx}, distance = {distances[idx]:.4f}\")\n",
    "    return idx\n",
    "\n",
    "\n",
    "def assign_points(centroids, points):\n",
    "    # logger.info(f\"assign_points: assigning {len(points)} points to {len(centroids)} centroids\")\n",
    "    assignments = [[] for _ in centroids]\n",
    "\n",
    "    for point in points:\n",
    "        idx = find_best_centroid(centroids, point)\n",
    "        assignments[idx].append(point)\n",
    "\n",
    "    # for i, cluster in enumerate(assignments):\n",
    "    #     logger.info(f\"  → cluster {i} size = {len(cluster)}\")\n",
    "\n",
    "    return assignments\n",
    "\n",
    "\n",
    "def find_average_point(points):\n",
    "    # if len(points) == 0:\n",
    "    #     logger.warning(\"find_average_point: empty cluster, returning NaNs\")\n",
    "    avg = np.mean(points, axis=0)\n",
    "    # logger.debug(f\"find_average_point: computed mean = {avg}\")\n",
    "    return avg"
   ],
   "outputs": [],
   "execution_count": 36
  },
  {
   "metadata": {
    "ExecuteTime": {
     "end_time": "2025-06-18T23:13:14.611282Z",
     "start_time": "2025-06-18T23:13:14.607372Z"
    }
   },
   "cell_type": "code",
   "source": [
    "def step(centroids, points, thresh, max_iterations):\n",
    "    for iteration in range(1, max_iterations + 1):\n",
    "        # logger.info(f\"Iteration {iteration} start — centroids:\\n{centroids}\")\n",
    "\n",
    "        points_for_centroids = assign_points(centroids, points)\n",
    "        new_centroids = []\n",
    "\n",
    "\n",
    "        for idx, cluster in enumerate(points_for_centroids):\n",
    "            if len(cluster) == 0:\n",
    "                new_centroids.append(centroids[idx])\n",
    "            else:\n",
    "                avg = find_average_point(cluster)\n",
    "                if np.isnan(avg).any():\n",
    "                    new_centroids.append(centroids[idx])\n",
    "                else:\n",
    "                    new_centroids.append(avg)\n",
    "\n",
    "        new_centroids = np.array(new_centroids)\n",
    "        \n",
    "        shifts = np.linalg.norm(new_centroids - centroids, axis=1)\n",
    "        # logger.info(f\"Iteration {iteration} shifts: {shifts}\")\n",
    "        \n",
    "        if np.all(shifts < thresh):\n",
    "            # logger.info(f\"Converged at iteration {iteration}\")\n",
    "            # logger.info(f\"Final centroids:\\n{new_centroids}\")\n",
    "            return new_centroids\n",
    "        \n",
    "        centroids = new_centroids\n",
    "\n",
    "    # logger.info(f\"Reached max_iterations ({max_iterations}) without full convergence\")\n",
    "    # logger.info(f\"Returning centroids:\\n{centroids}\")\n",
    "    return centroids"
   ],
   "id": "e53ed551e91aa842",
   "outputs": [],
   "execution_count": 37
  },
  {
   "metadata": {
    "ExecuteTime": {
     "end_time": "2025-06-18T23:13:14.615474Z",
     "start_time": "2025-06-18T23:13:14.612595Z"
    }
   },
   "cell_type": "code",
   "source": [
    "class KMeans:\n",
    "\n",
    "    def __init__(self, points, k):\n",
    "        self.k = k\n",
    "\n",
    "        self.points = np.array(points)\n",
    "\n",
    "        self.n = len(self.points)\n",
    "\n",
    "        self.features = len(self.points[0])\n",
    "\n",
    "        self.centroids = np.random.randn(self.k, self.features)\n",
    "\n",
    "        max_feature_value, min_feature_value = np.max(self.points, axis=0), np.min(self.points, axis=0)\n",
    "\n",
    "        self.centroids = np.clip(self.centroids, a_min=min_feature_value, a_max=max_feature_value)\n",
    "\n",
    "    def fit(self, thresh, max_iterations):\n",
    "        self.centroids = step(self.centroids, self.points, thresh, max_iterations)"
   ],
   "id": "5601975a27a46dba",
   "outputs": [],
   "execution_count": 38
  },
  {
   "metadata": {
    "ExecuteTime": {
     "end_time": "2025-06-18T23:13:14.619766Z",
     "start_time": "2025-06-18T23:13:14.616463Z"
    }
   },
   "cell_type": "code",
   "source": [
    "k = KMeans([[1, 0], [2, 0], [3, 1], [3, 4]], 3)\n",
    "\n",
    "k.fit(0.001, 10)\n",
    "\n",
    "k.centroids"
   ],
   "id": "ff6b8636988f8227",
   "outputs": [
    {
     "data": {
      "text/plain": [
       "array([[2.5, 0.5],\n",
       "       [1. , 0. ],\n",
       "       [3. , 4. ]])"
      ]
     },
     "execution_count": 39,
     "metadata": {},
     "output_type": "execute_result"
    }
   ],
   "execution_count": 39
  }
 ],
 "metadata": {
  "kernelspec": {
   "display_name": "Python 3",
   "language": "python",
   "name": "python3"
  },
  "language_info": {
   "codemirror_mode": {
    "name": "ipython",
    "version": 2
   },
   "file_extension": ".py",
   "mimetype": "text/x-python",
   "name": "python",
   "nbconvert_exporter": "python",
   "pygments_lexer": "ipython2",
   "version": "2.7.6"
  }
 },
 "nbformat": 4,
 "nbformat_minor": 5
}
